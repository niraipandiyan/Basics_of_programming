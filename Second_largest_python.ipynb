{
 "cells": [
  {
   "cell_type": "code",
   "execution_count": 1,
   "id": "e9f5a0fb",
   "metadata": {},
   "outputs": [
    {
     "name": "stdout",
     "output_type": "stream",
     "text": [
      "Enter the number of elements: 5\n"
     ]
    }
   ],
   "source": [
    "value_list=list()\n",
    "n=input(\"Enter the number of elements: \")\n",
    "n=int(n)"
   ]
  },
  {
   "cell_type": "code",
   "execution_count": 2,
   "id": "7d6019ec",
   "metadata": {
    "scrolled": true
   },
   "outputs": [
    {
     "name": "stdout",
     "output_type": "stream",
     "text": [
      "Enter the element: 30\n",
      "Enter the element: 12\n",
      "Enter the element: 34\n",
      "Enter the element: 54\n",
      "Enter the element: 23\n"
     ]
    },
    {
     "data": {
      "text/plain": [
       "[30, 12, 34, 54, 23]"
      ]
     },
     "execution_count": 2,
     "metadata": {},
     "output_type": "execute_result"
    }
   ],
   "source": [
    "for i in range(0,n):\n",
    "    value=input(\"Enter the element: \")\n",
    "    value=int(value)\n",
    "    value_list.append(value)\n",
    "value_list"
   ]
  },
  {
   "cell_type": "code",
   "execution_count": 3,
   "id": "fc7f901d",
   "metadata": {},
   "outputs": [],
   "source": [
    "value_list.sort(reverse = True) #sorting the list in descending order"
   ]
  },
  {
   "cell_type": "code",
   "execution_count": 4,
   "id": "1271e078",
   "metadata": {},
   "outputs": [
    {
     "data": {
      "text/plain": [
       "34"
      ]
     },
     "execution_count": 4,
     "metadata": {},
     "output_type": "execute_result"
    }
   ],
   "source": [
    "value_list[1] #second largest element will be on 2nd position that is index 1"
   ]
  }
 ],
 "metadata": {
  "kernelspec": {
   "display_name": "Python 3 (ipykernel)",
   "language": "python",
   "name": "python3"
  },
  "language_info": {
   "codemirror_mode": {
    "name": "ipython",
    "version": 3
   },
   "file_extension": ".py",
   "mimetype": "text/x-python",
   "name": "python",
   "nbconvert_exporter": "python",
   "pygments_lexer": "ipython3",
   "version": "3.9.7"
  }
 },
 "nbformat": 4,
 "nbformat_minor": 5
}
